{
 "cells": [
  {
   "cell_type": "code",
   "execution_count": 1,
   "id": "8c4ce9cd",
   "metadata": {},
   "outputs": [
    {
     "name": "stdout",
     "output_type": "stream",
     "text": [
      "[1 2 3 4 5 6 7]\n",
      "Number of dimensions is : 1\n",
      "[[[1 2 3 4 5]]]\n",
      "Number of dimensions is : 3\n"
     ]
    }
   ],
   "source": [
    "# NumPy stands for Numerical Python\n",
    "# Serves the same role as the traditional python list but are much faster \n",
    "# The are stored in continous memory locations therefore the accessability is much efficient;\n",
    "# this is what makes numpy arrays faster than traditional python lists(upto 50x)\n",
    "\n",
    "import numpy\n",
    "\n",
    "arr = numpy.array([1,2,3,4,5,6,7])\n",
    "print(arr)\n",
    "\n",
    "# Checking what dimension is the array\n",
    "\n",
    "print(\"Number of dimensions is :\",arr.ndim)\n",
    "\n",
    "# specifiying the number of dimensions in an array\n",
    "\n",
    "ar = numpy.array([1,2,3,4,5],ndmin= 3)\n",
    "print(ar)\n",
    "print(\"Number of dimensions is :\",ar.ndim)\n"
   ]
  },
  {
   "cell_type": "code",
   "execution_count": null,
   "id": "92532b4d",
   "metadata": {},
   "outputs": [],
   "source": []
  }
 ],
 "metadata": {
  "kernelspec": {
   "display_name": "Python 3 (ipykernel)",
   "language": "python",
   "name": "python3"
  },
  "language_info": {
   "codemirror_mode": {
    "name": "ipython",
    "version": 3
   },
   "file_extension": ".py",
   "mimetype": "text/x-python",
   "name": "python",
   "nbconvert_exporter": "python",
   "pygments_lexer": "ipython3",
   "version": "3.11.3"
  }
 },
 "nbformat": 4,
 "nbformat_minor": 5
}
